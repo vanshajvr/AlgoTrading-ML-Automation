{
  "nbformat": 4,
  "nbformat_minor": 0,
  "metadata": {
    "colab": {
      "provenance": []
    },
    "kernelspec": {
      "name": "python3",
      "display_name": "Python 3"
    },
    "language_info": {
      "name": "python"
    }
  },
  "cells": [
    {
      "cell_type": "markdown",
      "source": [
        "# Imports and Setup"
      ],
      "metadata": {
        "id": "DgeQsFKJy_5l"
      }
    },
    {
      "cell_type": "code",
      "execution_count": 66,
      "metadata": {
        "id": "_2CjjhojOXup"
      },
      "outputs": [],
      "source": [
        "!pip install yfinance ta pandas --quiet"
      ]
    },
    {
      "cell_type": "code",
      "source": [
        "import yfinance as yf\n",
        "import pandas as pd\n",
        "import ta\n",
        "import matplotlib.pyplot as plt\n",
        "#i am using yfinance as my free stock stats provider api to get 6 month daily data."
      ],
      "metadata": {
        "id": "BqQLkpjlOhwR"
      },
      "execution_count": 110,
      "outputs": []
    },
    {
      "cell_type": "markdown",
      "source": [
        "#1. Fetching Stock Data"
      ],
      "metadata": {
        "id": "cmT9O_9RV5Tg"
      }
    },
    {
      "cell_type": "code",
      "source": [
        "def fetch_and_process(stock):\n",
        "   df = yf.download(stock, period=\"6mo\", interval=\"1d\")\n",
        "   df.dropna(inplace=True)\n",
        "#as you can see here i have used 6 month period with one day interval for each stock\n",
        "   if isinstance(df.columns, pd.MultiIndex):\n",
        "        df.columns = ['_'.join(filter(None, col)) for col in df.columns.values]\n",
        "    # this was required to flatten multiindex columns for easier handling.\n",
        "   return df"
      ],
      "metadata": {
        "id": "q10oeJUMO44w"
      },
      "execution_count": 68,
      "outputs": []
    },
    {
      "cell_type": "code",
      "source": [
        "stocks=[\"RELIANCE.NS\",\"TCS.NS\",\"INFY.NS\",\"LT.NS\"]"
      ],
      "metadata": {
        "id": "SIptTs6ZZ2CO"
      },
      "execution_count": 71,
      "outputs": []
    },
    {
      "cell_type": "code",
      "source": [
        "stock_data={}"
      ],
      "metadata": {
        "id": "-KRNNqUHb0PW"
      },
      "execution_count": 72,
      "outputs": []
    },
    {
      "cell_type": "markdown",
      "source": [
        "#2. Calculating Technical Indicators"
      ],
      "metadata": {
        "id": "2idn9NmSaGAl"
      }
    },
    {
      "cell_type": "code",
      "source": [
        "def add_indicators(df):\n",
        "    close_col = [col for col in df.columns if col.startswith('Close')][0]\n",
        "\n",
        "    rsi_values = ta.momentum.RSIIndicator(close=df[close_col], window=14).rsi()\n",
        "    df['RSI'] = rsi_values.values.flatten()\n",
        "    df['20DMA'] = df[close_col].rolling(window=20).mean()\n",
        "    df['50DMA'] = df[close_col].rolling(window=50).mean()\n",
        "\n",
        "    return df\n",
        "  #here i have used 3 indicators-rsi,20dma and 50dma as asked.\n",
        "  # rsi(14 day)-to detect oversold conditions\n",
        "  # 20dma and 50dma - to detect momentum trend"
      ],
      "metadata": {
        "id": "DodP5YynSlOj"
      },
      "execution_count": 134,
      "outputs": []
    },
    {
      "cell_type": "markdown",
      "source": [
        "#3. Strategy Logic & Signal Generation"
      ],
      "metadata": {
        "id": "LfqCx5GmV69a"
      }
    },
    {
      "cell_type": "code",
      "source": [
        "def generate_signals(df, rsi_threshold=50):\n",
        "    df = df.copy()\n",
        "    df['Signal'] = 0\n",
        "\n",
        "    dma_cross = (df['20DMA'] > df['50DMA']) & (df['20DMA'].shift(1) <= df['50DMA'].shift(1))\n",
        "\n",
        "    df.loc[dma_cross & (df['RSI'] < rsi_threshold), 'Signal'] = 1\n",
        "\n",
        "    return df\n",
        "#signals are generated considering they qualify the criteria\n",
        "#where rsi<50 and 20 dma crosses above 50dma which means signal=buy(1)"
      ],
      "metadata": {
        "id": "pCjRjzI_S6Sc"
      },
      "execution_count": 140,
      "outputs": []
    },
    {
      "cell_type": "code",
      "metadata": {
        "colab": {
          "base_uri": "https://localhost:8080/"
        },
        "id": "gTxFljM-PL28",
        "outputId": "a4d79e2c-ed53-466a-ab1d-6ea36554436e"
      },
      "source": [
        "for stock in stocks:\n",
        "    df = fetch_and_process(stock)\n",
        "    df = add_indicators(df)\n",
        "\n",
        "    df = generate_signals(df, rsi_threshold=50)\n",
        "\n",
        "    stock_data[stock] = df\n",
        "\n",
        "    print(f\"\\nSignals generated for {stock}\")\n",
        "    print(df[df['Signal'] == 1][['RSI', '20DMA', '50DMA', 'Signal']])\n",
        ""
      ],
      "execution_count": 141,
      "outputs": [
        {
          "output_type": "stream",
          "name": "stderr",
          "text": [
            "/tmp/ipython-input-68-756596499.py:2: FutureWarning: YF.download() has changed argument auto_adjust default to True\n",
            "  df = yf.download(stock, period=\"6mo\", interval=\"1d\")\n",
            "[*********************100%***********************]  1 of 1 completed\n",
            "/tmp/ipython-input-68-756596499.py:2: FutureWarning: YF.download() has changed argument auto_adjust default to True\n",
            "  df = yf.download(stock, period=\"6mo\", interval=\"1d\")\n"
          ]
        },
        {
          "output_type": "stream",
          "name": "stdout",
          "text": [
            "\n",
            "Signals generated for RELIANCE.NS\n",
            "Empty DataFrame\n",
            "Columns: [RSI, 20DMA, 50DMA, Signal]\n",
            "Index: []\n"
          ]
        },
        {
          "output_type": "stream",
          "name": "stderr",
          "text": [
            "\r[*********************100%***********************]  1 of 1 completed\n",
            "/tmp/ipython-input-68-756596499.py:2: FutureWarning: YF.download() has changed argument auto_adjust default to True\n",
            "  df = yf.download(stock, period=\"6mo\", interval=\"1d\")\n"
          ]
        },
        {
          "output_type": "stream",
          "name": "stdout",
          "text": [
            "\n",
            "Signals generated for TCS.NS\n",
            "Empty DataFrame\n",
            "Columns: [RSI, 20DMA, 50DMA, Signal]\n",
            "Index: []\n"
          ]
        },
        {
          "output_type": "stream",
          "name": "stderr",
          "text": [
            "\r[*********************100%***********************]  1 of 1 completed\n",
            "/tmp/ipython-input-68-756596499.py:2: FutureWarning: YF.download() has changed argument auto_adjust default to True\n",
            "  df = yf.download(stock, period=\"6mo\", interval=\"1d\")\n"
          ]
        },
        {
          "output_type": "stream",
          "name": "stdout",
          "text": [
            "\n",
            "Signals generated for INFY.NS\n",
            "Empty DataFrame\n",
            "Columns: [RSI, 20DMA, 50DMA, Signal]\n",
            "Index: []\n"
          ]
        },
        {
          "output_type": "stream",
          "name": "stderr",
          "text": [
            "\r[*********************100%***********************]  1 of 1 completed"
          ]
        },
        {
          "output_type": "stream",
          "name": "stdout",
          "text": [
            "\n",
            "Signals generated for LT.NS\n",
            "                  RSI        20DMA        50DMA  Signal\n",
            "Date                                                   \n",
            "2025-04-04  41.894088  3300.186377  3295.544644       1\n"
          ]
        },
        {
          "output_type": "stream",
          "name": "stderr",
          "text": [
            "\n"
          ]
        }
      ]
    },
    {
      "cell_type": "markdown",
      "source": [
        "--> Only LT.NS of the 4 stocks I chose, triggered actual signals- which is expected based on recent price behaviour."
      ],
      "metadata": {
        "id": "ebsWt8ym3Xgm"
      }
    },
    {
      "cell_type": "code",
      "source": [
        "print(stock_data[\"RELIANCE.NS\"].tail())"
      ],
      "metadata": {
        "colab": {
          "base_uri": "https://localhost:8080/"
        },
        "id": "0W6gOLVfdovz",
        "outputId": "a37a3493-3b93-49e2-e1b7-ee45d30e416e"
      },
      "execution_count": 142,
      "outputs": [
        {
          "output_type": "stream",
          "name": "stdout",
          "text": [
            "            Close_RELIANCE.NS  High_RELIANCE.NS  Low_RELIANCE.NS  \\\n",
            "Date                                                               \n",
            "2025-06-23        1456.800049       1463.800049      1442.000000   \n",
            "2025-06-24        1450.800049       1475.000000      1443.099976   \n",
            "2025-06-25        1467.300049       1472.400024      1460.500000   \n",
            "2025-06-26        1495.300049       1498.800049      1465.099976   \n",
            "2025-06-27        1515.400024       1522.000000      1496.900024   \n",
            "\n",
            "            Open_RELIANCE.NS  Volume_RELIANCE.NS        RSI        20DMA  \\\n",
            "Date                                                                       \n",
            "2025-06-23       1453.000000             5989078  60.289167  1433.170007   \n",
            "2025-06-24       1465.000000            16402744  57.988331  1434.605011   \n",
            "2025-06-25       1464.000000             7525851  62.254419  1437.325012   \n",
            "2025-06-26       1469.099976            14657893  68.162628  1441.200012   \n",
            "2025-06-27       1499.400024            11115082  71.599321  1445.925012   \n",
            "\n",
            "                  50DMA  Signal  \n",
            "Date                             \n",
            "2025-06-23  1393.976003       0  \n",
            "2025-06-24  1399.285005       0  \n",
            "2025-06-25  1404.252007       0  \n",
            "2025-06-26  1409.356008       0  \n",
            "2025-06-27  1414.878008       0  \n"
          ]
        }
      ]
    },
    {
      "cell_type": "code",
      "source": [
        "print(stock_data[\"RELIANCE.NS\"][['RSI', '20DMA', '50DMA']].describe())\n"
      ],
      "metadata": {
        "colab": {
          "base_uri": "https://localhost:8080/"
        },
        "id": "fC3YMxIlTa1P",
        "outputId": "20682898-544f-4d9e-903a-676d46327f65"
      },
      "execution_count": 75,
      "outputs": [
        {
          "output_type": "stream",
          "name": "stdout",
          "text": [
            "              RSI        20DMA        50DMA\n",
            "count  112.000000   106.000000    76.000000\n",
            "mean    55.931760  1303.455541  1289.682419\n",
            "std     11.049446    81.745097    57.176029\n",
            "min     27.097496  1215.162506  1236.441995\n",
            "25%     49.292795  1244.521873  1240.915248\n",
            "50%     57.403855  1256.849991  1261.913998\n",
            "75%     62.118597  1405.077501  1338.298245\n",
            "max     79.333233  1446.075012  1414.938008\n"
          ]
        }
      ]
    },
    {
      "cell_type": "code",
      "metadata": {
        "colab": {
          "base_uri": "https://localhost:8080/"
        },
        "id": "1e9b641e",
        "outputId": "19dc31bb-0c9a-49c8-cc94-93d9d9e95867"
      },
      "source": [
        "print(stock_data[\"RELIANCE.NS\"].columns)\n"
      ],
      "execution_count": 76,
      "outputs": [
        {
          "output_type": "stream",
          "name": "stdout",
          "text": [
            "Index(['Close_RELIANCE.NS', 'High_RELIANCE.NS', 'Low_RELIANCE.NS',\n",
            "       'Open_RELIANCE.NS', 'Volume_RELIANCE.NS', 'RSI', '20DMA', '50DMA',\n",
            "       'Signal'],\n",
            "      dtype='object')\n"
          ]
        }
      ]
    },
    {
      "cell_type": "code",
      "source": [
        "buy_days = stock_data[\"RELIANCE.NS\"][stock_data[\"RELIANCE.NS\"]['Signal'] == 1]\n",
        "print(buy_days[['RSI', '20DMA', '50DMA', 'Signal']])\n"
      ],
      "metadata": {
        "colab": {
          "base_uri": "https://localhost:8080/"
        },
        "id": "7FkwOcxDTYwP",
        "outputId": "4977569f-b668-4c9c-c02d-a8b8aa873e2c"
      },
      "execution_count": 77,
      "outputs": [
        {
          "output_type": "stream",
          "name": "stdout",
          "text": [
            "Empty DataFrame\n",
            "Columns: [RSI, 20DMA, 50DMA, Signal]\n",
            "Index: []\n"
          ]
        }
      ]
    },
    {
      "cell_type": "code",
      "source": [
        "# Pick the stock\n",
        "df = stock_data[\"LT.NS\"]\n",
        "\n",
        "# Redefine dma_cross in this scope\n",
        "dma_cross = (df['20DMA'] > df['50DMA']) & (df['20DMA'].shift(1) <= df['50DMA'].shift(1))\n",
        "\n",
        "# Now it works\n",
        "df.loc[dma_cross & (df['RSI'] < 50), 'Signal'] = 1\n",
        "\n",
        "# Check if signals were added\n",
        "print(df[df['Signal'] == 1][['RSI', '20DMA', '50DMA', 'Signal']])\n"
      ],
      "metadata": {
        "colab": {
          "base_uri": "https://localhost:8080/"
        },
        "id": "Pjeu5fN3TgMX",
        "outputId": "c7c49550-292e-4c72-bc33-da649bdd5da8"
      },
      "execution_count": 78,
      "outputs": [
        {
          "output_type": "stream",
          "name": "stdout",
          "text": [
            "                  RSI        20DMA        50DMA  Signal\n",
            "Date                                                   \n",
            "2025-04-04  41.894088  3300.186377  3295.544644       1\n"
          ]
        }
      ]
    },
    {
      "cell_type": "code",
      "source": [
        "# Example flattening (run once after fetching and adding indicators)\n",
        "import pandas as pd\n",
        "\n",
        "for stock, df in stock_data.items():\n",
        "    if isinstance(df.columns, pd.MultiIndex):\n",
        "        df.columns = ['_'.join(filter(None, col)) for col in df.columns.values]\n",
        "    stock_data[stock] = df\n"
      ],
      "metadata": {
        "id": "0_afAeRX9ecU"
      },
      "execution_count": 146,
      "outputs": []
    },
    {
      "cell_type": "markdown",
      "source": [
        "#4. ML Automation\n",
        "--> Here, I have tried to built a basic price movement predictor.\n",
        "\n",
        "--> Target is whether next day's price > today's price\n",
        "\n"
      ],
      "metadata": {
        "id": "WAQESBbVWAx5"
      }
    },
    {
      "cell_type": "code",
      "source": [
        "close_col = f'Close_{stock}'\n",
        "volume_col = f'Volume_{stock}'\n",
        "\n",
        "def prepare_features(df, stock=None):\n",
        "    df = df.copy()\n",
        "    if stock is None:\n",
        "      raise ValueError(\"Provide stock ticker name\")\n",
        "\n",
        "    close_col = f'Close_{stock}'\n",
        "    volume_col = f'Volume_{stock}'\n",
        "\n",
        "    df['Close_Next'] = df[close_col].shift(-1)\n",
        "    df['Target'] = (df['Close_Next'] > df[close_col]).astype(int)\n",
        "\n",
        "    macd = ta.trend.MACD(close=df[close_col], window_slow=26, window_fast=12, window_sign=9)\n",
        "    df['MACD'] = macd.macd()\n",
        "    df['MACD_Signal'] = macd.macd_signal()\n",
        "    df['MACD_Diff'] = macd.macd_diff()\n",
        "\n",
        "    df = df.dropna()\n",
        "\n",
        "    feature_cols = ['RSI', 'MACD', 'MACD_Signal', 'MACD_Diff', volume_col]\n",
        "\n",
        "    X = df[feature_cols]\n",
        "    y = df['Target']\n",
        "\n",
        "    return X, y\n",
        "\n",
        "# features used in model are rsi, macd, macd signal, macd diff, volume\n"
      ],
      "metadata": {
        "id": "A6JUR6_bVnB4"
      },
      "execution_count": 147,
      "outputs": []
    },
    {
      "cell_type": "code",
      "source": [
        "df.columns"
      ],
      "metadata": {
        "colab": {
          "base_uri": "https://localhost:8080/"
        },
        "id": "x5PeGbyWXHrt",
        "outputId": "58620ca4-9c4b-4ef5-d544-83904a7b92c3"
      },
      "execution_count": 148,
      "outputs": [
        {
          "output_type": "execute_result",
          "data": {
            "text/plain": [
              "Index(['Close_LT.NS', 'High_LT.NS', 'Low_LT.NS', 'Open_LT.NS', 'Volume_LT.NS',\n",
              "       'RSI', '20DMA', '50DMA', 'Signal'],\n",
              "      dtype='object')"
            ]
          },
          "metadata": {},
          "execution_count": 148
        }
      ]
    },
    {
      "cell_type": "code",
      "source": [
        "stock = 'RELIANCE.NS'\n",
        "df = stock_data[stock]\n",
        "\n",
        "df.columns = ['_'.join(filter(None, col)) if isinstance(col, tuple) else col for col in df.columns]\n",
        "\n",
        "X, y = prepare_features(df,stock)\n",
        "\n",
        "print(\"Features shape:\", X.shape)\n",
        "print(\"Label distribution:\\n\", y.value_counts())\n",
        "X.head()\n"
      ],
      "metadata": {
        "colab": {
          "base_uri": "https://localhost:8080/",
          "height": 347
        },
        "id": "H5xQHt1nW6iE",
        "outputId": "68307066-3683-4d64-b13d-b465b4eb4d46"
      },
      "execution_count": 149,
      "outputs": [
        {
          "output_type": "stream",
          "name": "stdout",
          "text": [
            "Features shape: (75, 5)\n",
            "Label distribution:\n",
            " Target\n",
            "1    42\n",
            "0    33\n",
            "Name: count, dtype: int64\n"
          ]
        },
        {
          "output_type": "execute_result",
          "data": {
            "text/plain": [
              "                  RSI       MACD  MACD_Signal  MACD_Diff  Volume_RELIANCE.NS\n",
              "Date                                                                        \n",
              "2025-03-06  47.035101 -16.441125   -13.081940  -3.359185            14468014\n",
              "2025-03-07  57.743408 -11.397296   -12.745011   1.347715            16474965\n",
              "2025-03-10  54.385423  -8.225098   -11.841029   3.615931            11931051\n",
              "2025-03-11  56.511696  -4.936051   -10.460033   5.523982            10089838\n",
              "2025-03-12  58.778615  -1.525133    -8.673053   7.147920            11977555"
            ],
            "text/html": [
              "\n",
              "  <div id=\"df-a36be0d8-5095-4807-83a5-910101e7a737\" class=\"colab-df-container\">\n",
              "    <div>\n",
              "<style scoped>\n",
              "    .dataframe tbody tr th:only-of-type {\n",
              "        vertical-align: middle;\n",
              "    }\n",
              "\n",
              "    .dataframe tbody tr th {\n",
              "        vertical-align: top;\n",
              "    }\n",
              "\n",
              "    .dataframe thead th {\n",
              "        text-align: right;\n",
              "    }\n",
              "</style>\n",
              "<table border=\"1\" class=\"dataframe\">\n",
              "  <thead>\n",
              "    <tr style=\"text-align: right;\">\n",
              "      <th></th>\n",
              "      <th>RSI</th>\n",
              "      <th>MACD</th>\n",
              "      <th>MACD_Signal</th>\n",
              "      <th>MACD_Diff</th>\n",
              "      <th>Volume_RELIANCE.NS</th>\n",
              "    </tr>\n",
              "    <tr>\n",
              "      <th>Date</th>\n",
              "      <th></th>\n",
              "      <th></th>\n",
              "      <th></th>\n",
              "      <th></th>\n",
              "      <th></th>\n",
              "    </tr>\n",
              "  </thead>\n",
              "  <tbody>\n",
              "    <tr>\n",
              "      <th>2025-03-06</th>\n",
              "      <td>47.035101</td>\n",
              "      <td>-16.441125</td>\n",
              "      <td>-13.081940</td>\n",
              "      <td>-3.359185</td>\n",
              "      <td>14468014</td>\n",
              "    </tr>\n",
              "    <tr>\n",
              "      <th>2025-03-07</th>\n",
              "      <td>57.743408</td>\n",
              "      <td>-11.397296</td>\n",
              "      <td>-12.745011</td>\n",
              "      <td>1.347715</td>\n",
              "      <td>16474965</td>\n",
              "    </tr>\n",
              "    <tr>\n",
              "      <th>2025-03-10</th>\n",
              "      <td>54.385423</td>\n",
              "      <td>-8.225098</td>\n",
              "      <td>-11.841029</td>\n",
              "      <td>3.615931</td>\n",
              "      <td>11931051</td>\n",
              "    </tr>\n",
              "    <tr>\n",
              "      <th>2025-03-11</th>\n",
              "      <td>56.511696</td>\n",
              "      <td>-4.936051</td>\n",
              "      <td>-10.460033</td>\n",
              "      <td>5.523982</td>\n",
              "      <td>10089838</td>\n",
              "    </tr>\n",
              "    <tr>\n",
              "      <th>2025-03-12</th>\n",
              "      <td>58.778615</td>\n",
              "      <td>-1.525133</td>\n",
              "      <td>-8.673053</td>\n",
              "      <td>7.147920</td>\n",
              "      <td>11977555</td>\n",
              "    </tr>\n",
              "  </tbody>\n",
              "</table>\n",
              "</div>\n",
              "    <div class=\"colab-df-buttons\">\n",
              "\n",
              "  <div class=\"colab-df-container\">\n",
              "    <button class=\"colab-df-convert\" onclick=\"convertToInteractive('df-a36be0d8-5095-4807-83a5-910101e7a737')\"\n",
              "            title=\"Convert this dataframe to an interactive table.\"\n",
              "            style=\"display:none;\">\n",
              "\n",
              "  <svg xmlns=\"http://www.w3.org/2000/svg\" height=\"24px\" viewBox=\"0 -960 960 960\">\n",
              "    <path d=\"M120-120v-720h720v720H120Zm60-500h600v-160H180v160Zm220 220h160v-160H400v160Zm0 220h160v-160H400v160ZM180-400h160v-160H180v160Zm440 0h160v-160H620v160ZM180-180h160v-160H180v160Zm440 0h160v-160H620v160Z\"/>\n",
              "  </svg>\n",
              "    </button>\n",
              "\n",
              "  <style>\n",
              "    .colab-df-container {\n",
              "      display:flex;\n",
              "      gap: 12px;\n",
              "    }\n",
              "\n",
              "    .colab-df-convert {\n",
              "      background-color: #E8F0FE;\n",
              "      border: none;\n",
              "      border-radius: 50%;\n",
              "      cursor: pointer;\n",
              "      display: none;\n",
              "      fill: #1967D2;\n",
              "      height: 32px;\n",
              "      padding: 0 0 0 0;\n",
              "      width: 32px;\n",
              "    }\n",
              "\n",
              "    .colab-df-convert:hover {\n",
              "      background-color: #E2EBFA;\n",
              "      box-shadow: 0px 1px 2px rgba(60, 64, 67, 0.3), 0px 1px 3px 1px rgba(60, 64, 67, 0.15);\n",
              "      fill: #174EA6;\n",
              "    }\n",
              "\n",
              "    .colab-df-buttons div {\n",
              "      margin-bottom: 4px;\n",
              "    }\n",
              "\n",
              "    [theme=dark] .colab-df-convert {\n",
              "      background-color: #3B4455;\n",
              "      fill: #D2E3FC;\n",
              "    }\n",
              "\n",
              "    [theme=dark] .colab-df-convert:hover {\n",
              "      background-color: #434B5C;\n",
              "      box-shadow: 0px 1px 3px 1px rgba(0, 0, 0, 0.15);\n",
              "      filter: drop-shadow(0px 1px 2px rgba(0, 0, 0, 0.3));\n",
              "      fill: #FFFFFF;\n",
              "    }\n",
              "  </style>\n",
              "\n",
              "    <script>\n",
              "      const buttonEl =\n",
              "        document.querySelector('#df-a36be0d8-5095-4807-83a5-910101e7a737 button.colab-df-convert');\n",
              "      buttonEl.style.display =\n",
              "        google.colab.kernel.accessAllowed ? 'block' : 'none';\n",
              "\n",
              "      async function convertToInteractive(key) {\n",
              "        const element = document.querySelector('#df-a36be0d8-5095-4807-83a5-910101e7a737');\n",
              "        const dataTable =\n",
              "          await google.colab.kernel.invokeFunction('convertToInteractive',\n",
              "                                                    [key], {});\n",
              "        if (!dataTable) return;\n",
              "\n",
              "        const docLinkHtml = 'Like what you see? Visit the ' +\n",
              "          '<a target=\"_blank\" href=https://colab.research.google.com/notebooks/data_table.ipynb>data table notebook</a>'\n",
              "          + ' to learn more about interactive tables.';\n",
              "        element.innerHTML = '';\n",
              "        dataTable['output_type'] = 'display_data';\n",
              "        await google.colab.output.renderOutput(dataTable, element);\n",
              "        const docLink = document.createElement('div');\n",
              "        docLink.innerHTML = docLinkHtml;\n",
              "        element.appendChild(docLink);\n",
              "      }\n",
              "    </script>\n",
              "  </div>\n",
              "\n",
              "\n",
              "    <div id=\"df-67497f6b-16a2-48f8-838f-4856a30f88c5\">\n",
              "      <button class=\"colab-df-quickchart\" onclick=\"quickchart('df-67497f6b-16a2-48f8-838f-4856a30f88c5')\"\n",
              "                title=\"Suggest charts\"\n",
              "                style=\"display:none;\">\n",
              "\n",
              "<svg xmlns=\"http://www.w3.org/2000/svg\" height=\"24px\"viewBox=\"0 0 24 24\"\n",
              "     width=\"24px\">\n",
              "    <g>\n",
              "        <path d=\"M19 3H5c-1.1 0-2 .9-2 2v14c0 1.1.9 2 2 2h14c1.1 0 2-.9 2-2V5c0-1.1-.9-2-2-2zM9 17H7v-7h2v7zm4 0h-2V7h2v10zm4 0h-2v-4h2v4z\"/>\n",
              "    </g>\n",
              "</svg>\n",
              "      </button>\n",
              "\n",
              "<style>\n",
              "  .colab-df-quickchart {\n",
              "      --bg-color: #E8F0FE;\n",
              "      --fill-color: #1967D2;\n",
              "      --hover-bg-color: #E2EBFA;\n",
              "      --hover-fill-color: #174EA6;\n",
              "      --disabled-fill-color: #AAA;\n",
              "      --disabled-bg-color: #DDD;\n",
              "  }\n",
              "\n",
              "  [theme=dark] .colab-df-quickchart {\n",
              "      --bg-color: #3B4455;\n",
              "      --fill-color: #D2E3FC;\n",
              "      --hover-bg-color: #434B5C;\n",
              "      --hover-fill-color: #FFFFFF;\n",
              "      --disabled-bg-color: #3B4455;\n",
              "      --disabled-fill-color: #666;\n",
              "  }\n",
              "\n",
              "  .colab-df-quickchart {\n",
              "    background-color: var(--bg-color);\n",
              "    border: none;\n",
              "    border-radius: 50%;\n",
              "    cursor: pointer;\n",
              "    display: none;\n",
              "    fill: var(--fill-color);\n",
              "    height: 32px;\n",
              "    padding: 0;\n",
              "    width: 32px;\n",
              "  }\n",
              "\n",
              "  .colab-df-quickchart:hover {\n",
              "    background-color: var(--hover-bg-color);\n",
              "    box-shadow: 0 1px 2px rgba(60, 64, 67, 0.3), 0 1px 3px 1px rgba(60, 64, 67, 0.15);\n",
              "    fill: var(--button-hover-fill-color);\n",
              "  }\n",
              "\n",
              "  .colab-df-quickchart-complete:disabled,\n",
              "  .colab-df-quickchart-complete:disabled:hover {\n",
              "    background-color: var(--disabled-bg-color);\n",
              "    fill: var(--disabled-fill-color);\n",
              "    box-shadow: none;\n",
              "  }\n",
              "\n",
              "  .colab-df-spinner {\n",
              "    border: 2px solid var(--fill-color);\n",
              "    border-color: transparent;\n",
              "    border-bottom-color: var(--fill-color);\n",
              "    animation:\n",
              "      spin 1s steps(1) infinite;\n",
              "  }\n",
              "\n",
              "  @keyframes spin {\n",
              "    0% {\n",
              "      border-color: transparent;\n",
              "      border-bottom-color: var(--fill-color);\n",
              "      border-left-color: var(--fill-color);\n",
              "    }\n",
              "    20% {\n",
              "      border-color: transparent;\n",
              "      border-left-color: var(--fill-color);\n",
              "      border-top-color: var(--fill-color);\n",
              "    }\n",
              "    30% {\n",
              "      border-color: transparent;\n",
              "      border-left-color: var(--fill-color);\n",
              "      border-top-color: var(--fill-color);\n",
              "      border-right-color: var(--fill-color);\n",
              "    }\n",
              "    40% {\n",
              "      border-color: transparent;\n",
              "      border-right-color: var(--fill-color);\n",
              "      border-top-color: var(--fill-color);\n",
              "    }\n",
              "    60% {\n",
              "      border-color: transparent;\n",
              "      border-right-color: var(--fill-color);\n",
              "    }\n",
              "    80% {\n",
              "      border-color: transparent;\n",
              "      border-right-color: var(--fill-color);\n",
              "      border-bottom-color: var(--fill-color);\n",
              "    }\n",
              "    90% {\n",
              "      border-color: transparent;\n",
              "      border-bottom-color: var(--fill-color);\n",
              "    }\n",
              "  }\n",
              "</style>\n",
              "\n",
              "      <script>\n",
              "        async function quickchart(key) {\n",
              "          const quickchartButtonEl =\n",
              "            document.querySelector('#' + key + ' button');\n",
              "          quickchartButtonEl.disabled = true;  // To prevent multiple clicks.\n",
              "          quickchartButtonEl.classList.add('colab-df-spinner');\n",
              "          try {\n",
              "            const charts = await google.colab.kernel.invokeFunction(\n",
              "                'suggestCharts', [key], {});\n",
              "          } catch (error) {\n",
              "            console.error('Error during call to suggestCharts:', error);\n",
              "          }\n",
              "          quickchartButtonEl.classList.remove('colab-df-spinner');\n",
              "          quickchartButtonEl.classList.add('colab-df-quickchart-complete');\n",
              "        }\n",
              "        (() => {\n",
              "          let quickchartButtonEl =\n",
              "            document.querySelector('#df-67497f6b-16a2-48f8-838f-4856a30f88c5 button');\n",
              "          quickchartButtonEl.style.display =\n",
              "            google.colab.kernel.accessAllowed ? 'block' : 'none';\n",
              "        })();\n",
              "      </script>\n",
              "    </div>\n",
              "\n",
              "    </div>\n",
              "  </div>\n"
            ],
            "application/vnd.google.colaboratory.intrinsic+json": {
              "type": "dataframe",
              "variable_name": "X",
              "summary": "{\n  \"name\": \"X\",\n  \"rows\": 75,\n  \"fields\": [\n    {\n      \"column\": \"Date\",\n      \"properties\": {\n        \"dtype\": \"date\",\n        \"min\": \"2025-03-06 00:00:00\",\n        \"max\": \"2025-06-26 00:00:00\",\n        \"num_unique_values\": 75,\n        \"samples\": [\n          \"2025-03-12 00:00:00\",\n          \"2025-06-11 00:00:00\",\n          \"2025-03-21 00:00:00\"\n        ],\n        \"semantic_type\": \"\",\n        \"description\": \"\"\n      }\n    },\n    {\n      \"column\": \"RSI\",\n      \"properties\": {\n        \"dtype\": \"number\",\n        \"std\": 9.123171507151843,\n        \"min\": 31.010586910951275,\n        \"max\": 79.33323312111384,\n        \"num_unique_values\": 75,\n        \"samples\": [\n          58.77861458167233,\n          61.485945145545834,\n          62.755819474044685\n        ],\n        \"semantic_type\": \"\",\n        \"description\": \"\"\n      }\n    },\n    {\n      \"column\": \"MACD\",\n      \"properties\": {\n        \"dtype\": \"number\",\n        \"std\": 17.38256545077282,\n        \"min\": -16.44112504716759,\n        \"max\": 47.51473562972524,\n        \"num_unique_values\": 75,\n        \"samples\": [\n          -1.5251327630708147,\n          18.997372926549133,\n          8.142159753789201\n        ],\n        \"semantic_type\": \"\",\n        \"description\": \"\"\n      }\n    },\n    {\n      \"column\": \"MACD_Signal\",\n      \"properties\": {\n        \"dtype\": \"number\",\n        \"std\": 16.691586004766616,\n        \"min\": -13.08194007475604,\n        \"max\": 43.69211342596826,\n        \"num_unique_values\": 75,\n        \"samples\": [\n          -8.673052915826258,\n          21.242410161556563,\n          0.9531923979284108\n        ],\n        \"semantic_type\": \"\",\n        \"description\": \"\"\n      }\n    },\n    {\n      \"column\": \"MACD_Diff\",\n      \"properties\": {\n        \"dtype\": \"number\",\n        \"std\": 7.297032622935314,\n        \"min\": -11.231292993939578,\n        \"max\": 18.434766286185386,\n        \"num_unique_values\": 75,\n        \"samples\": [\n          7.147920152755443,\n          -2.2450372350074304,\n          7.1889673558607905\n        ],\n        \"semantic_type\": \"\",\n        \"description\": \"\"\n      }\n    },\n    {\n      \"column\": \"Volume_RELIANCE.NS\",\n      \"properties\": {\n        \"dtype\": \"number\",\n        \"std\": 5829537,\n        \"min\": 0,\n        \"max\": 32538970,\n        \"num_unique_values\": 75,\n        \"samples\": [\n          11977555,\n          8195700,\n          21780769\n        ],\n        \"semantic_type\": \"\",\n        \"description\": \"\"\n      }\n    }\n  ]\n}"
            }
          },
          "metadata": {},
          "execution_count": 149
        }
      ]
    },
    {
      "cell_type": "code",
      "source": [
        "print(X.shape)\n",
        "print(y.value_counts())\n"
      ],
      "metadata": {
        "colab": {
          "base_uri": "https://localhost:8080/"
        },
        "id": "dfNrQyv9w4Zm",
        "outputId": "8b95b36e-08d7-4b90-81dd-e6235e9f0671"
      },
      "execution_count": 150,
      "outputs": [
        {
          "output_type": "stream",
          "name": "stdout",
          "text": [
            "(75, 5)\n",
            "Target\n",
            "1    42\n",
            "0    33\n",
            "Name: count, dtype: int64\n"
          ]
        }
      ]
    },
    {
      "cell_type": "code",
      "source": [
        "print(df.columns)\n"
      ],
      "metadata": {
        "colab": {
          "base_uri": "https://localhost:8080/"
        },
        "id": "eRfQy1CBxScq",
        "outputId": "fc5cd025-924c-4b5a-dd71-743a4c1fdd99"
      },
      "execution_count": 151,
      "outputs": [
        {
          "output_type": "stream",
          "name": "stdout",
          "text": [
            "Index(['Close_RELIANCE.NS', 'High_RELIANCE.NS', 'Low_RELIANCE.NS',\n",
            "       'Open_RELIANCE.NS', 'Volume_RELIANCE.NS', 'RSI', '20DMA', '50DMA',\n",
            "       'Signal'],\n",
            "      dtype='object')\n"
          ]
        }
      ]
    },
    {
      "cell_type": "code",
      "source": [
        "df = df[df.index < pd.Timestamp.now().normalize()]\n",
        "#i did this to normalise the statisitics of stocks to the last closing value if the day is not over yet."
      ],
      "metadata": {
        "id": "x2iSFT8ww9cp"
      },
      "execution_count": 152,
      "outputs": []
    },
    {
      "cell_type": "code",
      "metadata": {
        "id": "EfQ3wvTtaFud"
      },
      "source": [
        "from sklearn.model_selection import train_test_split\n",
        "from sklearn.linear_model import LogisticRegression\n",
        "from sklearn.metrics import accuracy_score, confusion_matrix, classification_report\n",
        "import seaborn as sns\n",
        "import matplotlib.pyplot as plt"
      ],
      "execution_count": 153,
      "outputs": []
    },
    {
      "cell_type": "code",
      "source": [
        "def train_and_evaluate(X, y):\n",
        "\n",
        "    X_train, X_test, y_train, y_test = train_test_split(X, y, test_size=0.2, random_state=42)\n",
        "\n",
        "    model = LogisticRegression(max_iter=1000)\n",
        "    model.fit(X_train, y_train)\n",
        "\n",
        "    y_pred = model.predict(X_test)\n",
        "\n",
        "    acc = accuracy_score(y_test, y_pred)\n",
        "    print(f\"Test Accuracy: {acc:.2%}\")\n",
        "\n",
        "    cm = confusion_matrix(y_test, y_pred)\n",
        "    sns.heatmap(cm, annot=True, fmt='d', cmap='Blues', xticklabels=[0,1], yticklabels=[0,1])\n",
        "    plt.xlabel('Predicted')\n",
        "    plt.ylabel('Actual')\n",
        "    plt.title('Confusion Matrix')\n",
        "    plt.show()\n",
        "\n",
        "    print(classification_report(y_test, y_pred))\n",
        "\n",
        "    return model\n",
        "\n",
        "model = train_and_evaluate(X, y)\n",
        "# Here, model used is Logistic Regression.\n",
        "# I also tried using decision tree classifier which brought me accuracy upto 60%\n",
        "# but to due to less data and daily changing prices, accuracy dropped.\n",
        "# a better model could be random forest which may increase accuracy to an extent.\n"
      ],
      "metadata": {
        "id": "N-f2pd8RYpJU",
        "colab": {
          "base_uri": "https://localhost:8080/",
          "height": 655
        },
        "outputId": "008374fb-b0c9-413a-912c-6d4736418c04"
      },
      "execution_count": 154,
      "outputs": [
        {
          "output_type": "stream",
          "name": "stdout",
          "text": [
            "Test Accuracy: 46.67%\n"
          ]
        },
        {
          "output_type": "display_data",
          "data": {
            "text/plain": [
              "<Figure size 640x480 with 2 Axes>"
            ],
            "image/png": "[encoded data removed]"
          },
          "metadata": {}
        },
        {
          "output_type": "stream",
          "name": "stdout",
          "text": [
            "              precision    recall  f1-score   support\n",
            "\n",
            "           0       0.25      0.17      0.20         6\n",
            "           1       0.55      0.67      0.60         9\n",
            "\n",
            "    accuracy                           0.47        15\n",
            "   macro avg       0.40      0.42      0.40        15\n",
            "weighted avg       0.43      0.47      0.44        15\n",
            "\n"
          ]
        }
      ]
    },
    {
      "cell_type": "markdown",
      "source": [
        "#5. Google Sheets Logging\n",
        "--> This part was quite tricky and new to me.\n"
      ],
      "metadata": {
        "id": "dxvhujfrz_N8"
      }
    },
    {
      "cell_type": "code",
      "source": [
        "!pip install --quiet --upgrade gspread oauth2client\n"
      ],
      "metadata": {
        "id": "qxg0B47JYxVg"
      },
      "execution_count": 155,
      "outputs": []
    },
    {
      "cell_type": "code",
      "source": [
        "import gspread\n",
        "from oauth2client.service_account import ServiceAccountCredentials\n"
      ],
      "metadata": {
        "id": "jprWC2j-dkhd"
      },
      "execution_count": 156,
      "outputs": []
    },
    {
      "cell_type": "code",
      "source": [
        "scope = ['https://spreadsheets.google.com/feeds',\n",
        "         'https://www.googleapis.com/auth/drive']\n",
        "\n",
        "creds = ServiceAccountCredentials.from_json_keyfile_name('algotradingproject-464023-40bafdaed2c0.json', scope)\n",
        "client = gspread.authorize(creds)\n",
        "sheet = client.open(\"Algo-Trading\")\n",
        "worksheet = sheet.worksheet(\"Trade Log\")\n",
        "\n",
        "#i used google sheet api to integrate this notebook to the data sheet.\n",
        "# for this, gspread librrary was required along with the json key, which i acquired from my google cloud credentials.\n"
      ],
      "metadata": {
        "id": "4gkWCOP2dnnV"
      },
      "execution_count": 157,
      "outputs": []
    },
    {
      "cell_type": "code",
      "source": [
        "records = worksheet.get_all_records()\n",
        "print(records)"
      ],
      "metadata": {
        "colab": {
          "base_uri": "https://localhost:8080/"
        },
        "id": "HX9vnxEBdqvp",
        "outputId": "ac307423-3578-446f-e1c1-e53ae03fd307"
      },
      "execution_count": 158,
      "outputs": [
        {
          "output_type": "stream",
          "name": "stdout",
          "text": [
            "[{'Date\\t': '2025-06-27', 'Stock': 'RELIANCE.NS', ' Signal': 'Buy', 'Price': 2500, ' RSI': 28, '20DMA': 2490, '50DMA': 2480}, {'Date\\t': '2025-04-04', 'Stock': 'LT.NS', ' Signal': 'Buy', 'Price': 3230.03, ' RSI': 41.89, '20DMA': 3300.19, '50DMA': 3295.54}]\n"
          ]
        }
      ]
    },
    {
      "cell_type": "code",
      "source": [
        "def log_trade_to_sheet(worksheet, trade_data):\n",
        "\n",
        "    row = [trade_data['Date'], trade_data['Stock'], trade_data['Signal'], trade_data['Price'],\n",
        "           trade_data['RSI'], trade_data['20DMA'], trade_data['50DMA']]\n",
        "    worksheet.append_row(row)\n"
      ],
      "metadata": {
        "id": "mV53oYijedye"
      },
      "execution_count": 159,
      "outputs": []
    },
    {
      "cell_type": "code",
      "source": [
        "import datetime\n",
        "\n",
        "trade_example = {\n",
        "    'Date': datetime.datetime.now().strftime(\"%Y-%m-%d\"),\n",
        "    'Stock': 'RELIANCE.NS',\n",
        "    'Signal': 'Buy',\n",
        "    'Price': 2500,\n",
        "    'RSI': 28,\n",
        "    '20DMA': 2490,\n",
        "    '50DMA': 2480\n",
        "}\n",
        "\n",
        "log_trade_to_sheet(worksheet, trade_example)\n",
        "print(\"Logged trade to sheet!\")\n"
      ],
      "metadata": {
        "colab": {
          "base_uri": "https://localhost:8080/"
        },
        "id": "Qzm9VotTegpZ",
        "outputId": "04e692b5-35c7-4617-fd41-bfbacb0e6a7f"
      },
      "execution_count": 165,
      "outputs": [
        {
          "output_type": "stream",
          "name": "stdout",
          "text": [
            "Logged trade to sheet!\n"
          ]
        }
      ]
    },
    {
      "cell_type": "code",
      "source": [
        "def log_signals_from_df(worksheet, df, stock_name):\n",
        "    price_col = [col for col in df.columns if col.startswith('Close')][0]\n",
        "    for date, row in df.iterrows():\n",
        "        if row['Signal'] == 1:\n",
        "            trade_data = {\n",
        "                'Date': date.strftime(\"%Y-%m-%d\"),\n",
        "                'Stock': stock_name,\n",
        "                'Signal': 'Buy',\n",
        "                'Price': round(row[price_col], 2),\n",
        "                'RSI': round(row['RSI'], 2),\n",
        "                '20DMA': round(row['20DMA'], 2),\n",
        "                '50DMA': round(row['50DMA'], 2),\n",
        "            }\n",
        "            log_trade_to_sheet(worksheet, trade_data)\n",
        "            print(f\"Logged trade for {stock_name} on {trade_data['Date']}\")\n",
        "#logged each buy signal to the trade log tab\n",
        "# all the headers data, stock, signal, price, rsi, 20dma, 50dma are logged."
      ],
      "metadata": {
        "id": "ZwlrJVUseiXI"
      },
      "execution_count": 164,
      "outputs": []
    },
    {
      "cell_type": "code",
      "source": [
        "print(f\"Columns in {stock}: {df.columns.tolist()}\")\n"
      ],
      "metadata": {
        "colab": {
          "base_uri": "https://localhost:8080/"
        },
        "id": "31Q1wxJYfUgz",
        "outputId": "cea24a1e-2064-4aec-9e4f-fa304136c527"
      },
      "execution_count": 162,
      "outputs": [
        {
          "output_type": "stream",
          "name": "stdout",
          "text": [
            "Columns in RELIANCE.NS: ['Close_RELIANCE.NS', 'High_RELIANCE.NS', 'Low_RELIANCE.NS', 'Open_RELIANCE.NS', 'Volume_RELIANCE.NS', 'RSI', '20DMA', '50DMA', 'Signal']\n"
          ]
        }
      ]
    },
    {
      "cell_type": "code",
      "source": [
        "for stock in stock_data:\n",
        "    df = stock_data[stock]\n",
        "    log_signals_from_df(worksheet, df, stock)\n"
      ],
      "metadata": {
        "colab": {
          "base_uri": "https://localhost:8080/"
        },
        "id": "lW3dBXqHewLI",
        "outputId": "d18f6b89-cddc-42f1-ba88-4951a512a3eb"
      },
      "execution_count": 163,
      "outputs": [
        {
          "output_type": "stream",
          "name": "stdout",
          "text": [
            "Logged trade for LT.NS on 2025-04-04\n"
          ]
        }
      ]
    },
    {
      "cell_type": "markdown",
      "source": [
        "# 6. P&L Summary and Win Ratio\n",
        "--> in this final part, i was required to automate performance tracking, by\n",
        "\n",
        "*   returning trades from sheet\n",
        "*   looking up next day close price for that stock\n",
        "*   calcuating profit or loss per trade\n",
        "*   then sum it up in\n",
        "\n",
        "    *   PnL Summary tab\n",
        "    *   and the Summary tab (total trades, wins and win ratio)\n",
        "*   An additional thing I did was to make it all in one final pipeline to run both pnl and summary tab at once.\n",
        "\n",
        "\n",
        "\n",
        "\n",
        "\n"
      ],
      "metadata": {
        "id": "vQ1r0ayI0IyJ"
      }
    },
    {
      "cell_type": "code",
      "source": [
        "gimport datetime\n",
        "\n",
        "def generate_pnl_summary(sheet, stock_data):\n",
        "\n",
        "    trade_log = sheet.worksheet(\"Trade Log\")\n",
        "    trade_data = trade_log.get_all_records()\n",
        "\n",
        "    pnl_rows = []\n",
        "\n",
        "    for raw_trade in trade_data:\n",
        "        trade = {k.strip(): v for k, v in raw_trade.items()}\n",
        "\n",
        "        trade_date = datetime.datetime.strptime(trade['Date'], \"%Y-%m-%d\").date()\n",
        "        stock = trade['Stock']\n",
        "        buy_price = float(trade['Price'])\n",
        "\n",
        "        df = stock_data.get(stock)\n",
        "        if df is None:\n",
        "            continue\n",
        "\n",
        "        after_dates = df.index[df.index > pd.to_datetime(trade_date)]\n",
        "        if len(after_dates) < 3:\n",
        "            continue\n",
        "        sell_date = after_dates[2]\n",
        "\n",
        "        close_col = [col for col in df.columns if col.startswith('Close')][0]\n",
        "        sell_price = float(df.at[sell_date, close_col])\n",
        "\n",
        "        pnl = sell_price - buy_price\n",
        "        return_pct = (pnl / buy_price) * 100\n",
        "\n",
        "        pnl_rows.append([\n",
        "            trade_date.strftime(\"%Y-%m-%d\"),\n",
        "            stock,\n",
        "            round(buy_price, 2),\n",
        "            round(sell_price, 2),\n",
        "            round(pnl, 2),\n",
        "            round(return_pct, 2)\n",
        "        ])\n",
        "\n",
        "    try:\n",
        "        existing = sheet.worksheet(\"P&L Summary\")\n",
        "        sheet.del_worksheet(existing)\n",
        "    except gspread.exceptions.WorksheetNotFound:\n",
        "        pass\n",
        "\n",
        "    pnl_ws = sheet.add_worksheet(title=\"P&L Summary\", rows=str(len(pnl_rows)+5), cols=\"6\")\n",
        "    headers = [\"Date\", \"Stock\", \"Buy Price\", \"Sell Price\", \"PnL\", \"% Return\"]\n",
        "    pnl_ws.append_row(headers)\n",
        "\n",
        "    for row in pnl_rows:\n",
        "        pnl_ws.append_row(row)\n",
        "\n",
        "    print(f\"Wrote {len(pnl_rows)} P&L rows to 'P&L Summary'\")\n"
      ],
      "metadata": {
        "id": "9hO3lWvEtssG"
      },
      "execution_count": 126,
      "outputs": []
    },
    {
      "cell_type": "code",
      "source": [
        "generate_pnl_summary(sheet, stock_data)\n"
      ],
      "metadata": {
        "colab": {
          "base_uri": "https://localhost:8080/"
        },
        "id": "162MvUykt3QM",
        "outputId": "ea72a40c-6472-4015-9c50-ca972a6ff458"
      },
      "execution_count": 127,
      "outputs": [
        {
          "output_type": "stream",
          "name": "stdout",
          "text": [
            "Wrote 3 P&L rows to 'P&L Summary'\n"
          ]
        }
      ]
    },
    {
      "cell_type": "code",
      "source": [
        "def generate_win_ratio(sheet):\n",
        "    try:\n",
        "        pnl_ws = sheet.worksheet(\"P&L Summary\")\n",
        "        data = pnl_ws.get_all_records()\n",
        "    except:\n",
        "        print(\"'P&L Summary' sheet not found.\")\n",
        "        return\n",
        "\n",
        "    if not data:\n",
        "        print(\"No trade data to summarize.\")\n",
        "        return\n",
        "\n",
        "    wins = sum(1 for row in data if float(row.get(\"PnL\", 0)) > 0)\n",
        "    losses = len(data) - wins\n",
        "    win_ratio = (wins / len(data)) * 100\n",
        "\n",
        "    try:\n",
        "        summary_ws = sheet.worksheet(\"Summary P&L\")\n",
        "        sheet.del_worksheet(summary_ws)\n",
        "    except:\n",
        "        pass\n",
        "\n",
        "    summary_ws = sheet.add_worksheet(title=\"Summary P&L\", rows=\"10\", cols=\"2\")\n",
        "\n",
        "    summary_ws.append_row([\"Metric\", \"Value\"])\n",
        "    summary_ws.append_row([\"Total Trades\", len(data)])\n",
        "    summary_ws.append_row([\"Winning Trades\", wins])\n",
        "    summary_ws.append_row([\"Losing Trades\", losses])\n",
        "    summary_ws.append_row([\"Win Ratio (%)\", round(win_ratio, 2)])\n",
        "\n",
        "    print(f\"Win Ratio tab created — {wins} wins out of {len(data)} trades → {round(win_ratio, 2)}% success rate.\")\n"
      ],
      "metadata": {
        "id": "pWnoRstXuCKt"
      },
      "execution_count": 129,
      "outputs": []
    },
    {
      "cell_type": "code",
      "source": [
        "generate_win_ratio(sheet)"
      ],
      "metadata": {
        "colab": {
          "base_uri": "https://localhost:8080/"
        },
        "id": "nfk-WwHEuVxp",
        "outputId": "0179be76-8241-4d57-8a1b-eefbd8674b07"
      },
      "execution_count": 130,
      "outputs": [
        {
          "output_type": "stream",
          "name": "stdout",
          "text": [
            "Win Ratio tab created — 0 wins out of 3 trades → 0.0% success rate.\n"
          ]
        }
      ]
    },
    {
      "cell_type": "code",
      "source": [
        "def run_full_pipeline(sheet, stock_data):\n",
        "    generate_pnl_summary(sheet, stock_data)\n",
        "    generate_win_ratio(sheet)\n",
        "#only one function to run both summary and win ratio"
      ],
      "metadata": {
        "id": "Qp17JUs6ug2b"
      },
      "execution_count": 131,
      "outputs": []
    },
    {
      "cell_type": "code",
      "source": [
        "run_full_pipeline(sheet, stock_data)"
      ],
      "metadata": {
        "colab": {
          "base_uri": "https://localhost:8080/"
        },
        "id": "QYJch79_upJr",
        "outputId": "9c7fbbc8-7519-4201-f77c-ebbe58682806"
      },
      "execution_count": 132,
      "outputs": [
        {
          "output_type": "stream",
          "name": "stdout",
          "text": [
            "Wrote 3 P&L rows to 'P&L Summary'\n",
            "Win Ratio tab created — 0 wins out of 3 trades → 0.0% success rate.\n"
          ]
        }
      ]
    }
  ]
}